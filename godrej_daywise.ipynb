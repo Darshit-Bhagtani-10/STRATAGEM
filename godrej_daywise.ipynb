{
 "cells": [
  {
   "cell_type": "code",
   "execution_count": 30,
   "id": "b58e6d2b",
   "metadata": {},
   "outputs": [],
   "source": [
    "\n",
    "import pandas as pd\n",
    "import numpy as np\n",
    "import matplotlib.pyplot as plt\n",
    "import seaborn as sns\n",
    "df = pd.read_csv(\"C:/Users/HP/OneDrive/Desktop/Casestudy_godrej.csv\")\n",
    "\n"
   ]
  },
  {
   "cell_type": "code",
   "execution_count": 31,
   "id": "1fd7e718",
   "metadata": {},
   "outputs": [
    {
     "data": {
      "text/html": [
       "<div>\n",
       "<style scoped>\n",
       "    .dataframe tbody tr th:only-of-type {\n",
       "        vertical-align: middle;\n",
       "    }\n",
       "\n",
       "    .dataframe tbody tr th {\n",
       "        vertical-align: top;\n",
       "    }\n",
       "\n",
       "    .dataframe thead th {\n",
       "        text-align: right;\n",
       "    }\n",
       "</style>\n",
       "<table border=\"1\" class=\"dataframe\">\n",
       "  <thead>\n",
       "    <tr style=\"text-align: right;\">\n",
       "      <th></th>\n",
       "      <th>Date</th>\n",
       "      <th>Price</th>\n",
       "    </tr>\n",
       "  </thead>\n",
       "  <tbody>\n",
       "    <tr>\n",
       "      <th>0</th>\n",
       "      <td>03-21-2024</td>\n",
       "      <td>2,223.55</td>\n",
       "    </tr>\n",
       "    <tr>\n",
       "      <th>1</th>\n",
       "      <td>03-20-2024</td>\n",
       "      <td>2,139.90</td>\n",
       "    </tr>\n",
       "    <tr>\n",
       "      <th>2</th>\n",
       "      <td>03-19-2024</td>\n",
       "      <td>2,135.55</td>\n",
       "    </tr>\n",
       "    <tr>\n",
       "      <th>3</th>\n",
       "      <td>03-18-2024</td>\n",
       "      <td>2,162.95</td>\n",
       "    </tr>\n",
       "    <tr>\n",
       "      <th>4</th>\n",
       "      <td>03-15-2024</td>\n",
       "      <td>2,218.25</td>\n",
       "    </tr>\n",
       "  </tbody>\n",
       "</table>\n",
       "</div>"
      ],
      "text/plain": [
       "         Date     Price\n",
       "0  03-21-2024  2,223.55\n",
       "1  03-20-2024  2,139.90\n",
       "2  03-19-2024  2,135.55\n",
       "3  03-18-2024  2,162.95\n",
       "4  03-15-2024  2,218.25"
      ]
     },
     "execution_count": 31,
     "metadata": {},
     "output_type": "execute_result"
    }
   ],
   "source": [
    "df.head()"
   ]
  },
  {
   "cell_type": "code",
   "execution_count": 32,
   "id": "caac813b",
   "metadata": {},
   "outputs": [
    {
     "name": "stdout",
     "output_type": "stream",
     "text": [
      "<class 'pandas.core.frame.DataFrame'>\n",
      "RangeIndex: 1487 entries, 0 to 1486\n",
      "Data columns (total 2 columns):\n",
      " #   Column  Non-Null Count  Dtype \n",
      "---  ------  --------------  ----- \n",
      " 0   Date    1487 non-null   object\n",
      " 1   Price   1487 non-null   object\n",
      "dtypes: object(2)\n",
      "memory usage: 23.4+ KB\n"
     ]
    }
   ],
   "source": [
    "df.info()"
   ]
  },
  {
   "cell_type": "code",
   "execution_count": 33,
   "id": "4fd50070",
   "metadata": {},
   "outputs": [],
   "source": [
    "df['Date'] = pd.to_datetime(df['Date'], format='%m-%d-%Y', errors='coerce')\n",
    "# Remove commas from 'Price' column and convert to float\n",
    "df['Price'] = df['Price'].str.replace(',', '').astype(float)\n",
    "# Append the dates parsed with a different format\n"
   ]
  },
  {
   "cell_type": "code",
   "execution_count": 34,
   "id": "4c18ad45",
   "metadata": {},
   "outputs": [
    {
     "name": "stdout",
     "output_type": "stream",
     "text": [
      "<class 'pandas.core.frame.DataFrame'>\n",
      "RangeIndex: 1487 entries, 0 to 1486\n",
      "Data columns (total 2 columns):\n",
      " #   Column  Non-Null Count  Dtype         \n",
      "---  ------  --------------  -----         \n",
      " 0   Date    1487 non-null   datetime64[ns]\n",
      " 1   Price   1487 non-null   float64       \n",
      "dtypes: datetime64[ns](1), float64(1)\n",
      "memory usage: 23.4 KB\n"
     ]
    }
   ],
   "source": [
    "df.info()"
   ]
  },
  {
   "cell_type": "code",
   "execution_count": 35,
   "id": "9e90722a",
   "metadata": {},
   "outputs": [
    {
     "name": "stdout",
     "output_type": "stream",
     "text": [
      "Number of NaT values: 0\n"
     ]
    }
   ],
   "source": [
    "na_count = df['Date'].isna().sum()\n",
    "\n",
    "print(\"Number of NaT values:\", na_count)"
   ]
  },
  {
   "cell_type": "code",
   "execution_count": 36,
   "id": "0f29b3ff",
   "metadata": {},
   "outputs": [
    {
     "data": {
      "text/html": [
       "<div>\n",
       "<style scoped>\n",
       "    .dataframe tbody tr th:only-of-type {\n",
       "        vertical-align: middle;\n",
       "    }\n",
       "\n",
       "    .dataframe tbody tr th {\n",
       "        vertical-align: top;\n",
       "    }\n",
       "\n",
       "    .dataframe thead th {\n",
       "        text-align: right;\n",
       "    }\n",
       "</style>\n",
       "<table border=\"1\" class=\"dataframe\">\n",
       "  <thead>\n",
       "    <tr style=\"text-align: right;\">\n",
       "      <th></th>\n",
       "      <th>Date</th>\n",
       "      <th>Price</th>\n",
       "    </tr>\n",
       "  </thead>\n",
       "  <tbody>\n",
       "    <tr>\n",
       "      <th>1486</th>\n",
       "      <td>2018-03-22</td>\n",
       "      <td>738.45</td>\n",
       "    </tr>\n",
       "    <tr>\n",
       "      <th>1485</th>\n",
       "      <td>2018-03-23</td>\n",
       "      <td>725.60</td>\n",
       "    </tr>\n",
       "    <tr>\n",
       "      <th>1484</th>\n",
       "      <td>2018-03-26</td>\n",
       "      <td>730.95</td>\n",
       "    </tr>\n",
       "    <tr>\n",
       "      <th>1483</th>\n",
       "      <td>2018-03-27</td>\n",
       "      <td>725.60</td>\n",
       "    </tr>\n",
       "    <tr>\n",
       "      <th>1482</th>\n",
       "      <td>2018-03-28</td>\n",
       "      <td>722.90</td>\n",
       "    </tr>\n",
       "    <tr>\n",
       "      <th>...</th>\n",
       "      <td>...</td>\n",
       "      <td>...</td>\n",
       "    </tr>\n",
       "    <tr>\n",
       "      <th>4</th>\n",
       "      <td>2024-03-15</td>\n",
       "      <td>2218.25</td>\n",
       "    </tr>\n",
       "    <tr>\n",
       "      <th>3</th>\n",
       "      <td>2024-03-18</td>\n",
       "      <td>2162.95</td>\n",
       "    </tr>\n",
       "    <tr>\n",
       "      <th>2</th>\n",
       "      <td>2024-03-19</td>\n",
       "      <td>2135.55</td>\n",
       "    </tr>\n",
       "    <tr>\n",
       "      <th>1</th>\n",
       "      <td>2024-03-20</td>\n",
       "      <td>2139.90</td>\n",
       "    </tr>\n",
       "    <tr>\n",
       "      <th>0</th>\n",
       "      <td>2024-03-21</td>\n",
       "      <td>2223.55</td>\n",
       "    </tr>\n",
       "  </tbody>\n",
       "</table>\n",
       "<p>1487 rows × 2 columns</p>\n",
       "</div>"
      ],
      "text/plain": [
       "           Date    Price\n",
       "1486 2018-03-22   738.45\n",
       "1485 2018-03-23   725.60\n",
       "1484 2018-03-26   730.95\n",
       "1483 2018-03-27   725.60\n",
       "1482 2018-03-28   722.90\n",
       "...         ...      ...\n",
       "4    2024-03-15  2218.25\n",
       "3    2024-03-18  2162.95\n",
       "2    2024-03-19  2135.55\n",
       "1    2024-03-20  2139.90\n",
       "0    2024-03-21  2223.55\n",
       "\n",
       "[1487 rows x 2 columns]"
      ]
     },
     "execution_count": 36,
     "metadata": {},
     "output_type": "execute_result"
    }
   ],
   "source": [
    "df.sort_values('Date', inplace=True)\n",
    "df"
   ]
  },
  {
   "cell_type": "code",
   "execution_count": 40,
   "id": "060ad74e",
   "metadata": {},
   "outputs": [
    {
     "name": "stdout",
     "output_type": "stream",
     "text": [
      "Epoch 1/100\n",
      "37/37 - 7s - loss: 0.0556 - val_loss: 0.0191 - 7s/epoch - 177ms/step\n",
      "Epoch 2/100\n",
      "37/37 - 1s - loss: 0.0086 - val_loss: 0.0048 - 1s/epoch - 36ms/step\n",
      "Epoch 3/100\n",
      "37/37 - 1s - loss: 0.0072 - val_loss: 0.0030 - 1s/epoch - 35ms/step\n",
      "Epoch 4/100\n",
      "37/37 - 1s - loss: 0.0052 - val_loss: 0.0022 - 1s/epoch - 36ms/step\n",
      "Epoch 5/100\n",
      "37/37 - 1s - loss: 0.0055 - val_loss: 0.0060 - 1s/epoch - 36ms/step\n",
      "Epoch 6/100\n",
      "37/37 - 1s - loss: 0.0049 - val_loss: 0.0040 - 1s/epoch - 36ms/step\n",
      "Epoch 7/100\n",
      "37/37 - 1s - loss: 0.0049 - val_loss: 0.0016 - 1s/epoch - 36ms/step\n",
      "Epoch 8/100\n",
      "37/37 - 1s - loss: 0.0046 - val_loss: 0.0020 - 1s/epoch - 35ms/step\n",
      "Epoch 9/100\n",
      "37/37 - 1s - loss: 0.0045 - val_loss: 0.0015 - 1s/epoch - 35ms/step\n",
      "Epoch 10/100\n",
      "37/37 - 1s - loss: 0.0042 - val_loss: 0.0022 - 1s/epoch - 36ms/step\n",
      "Epoch 11/100\n",
      "37/37 - 1s - loss: 0.0036 - val_loss: 0.0014 - 1s/epoch - 37ms/step\n",
      "Epoch 12/100\n",
      "37/37 - 1s - loss: 0.0034 - val_loss: 0.0027 - 1s/epoch - 36ms/step\n",
      "Epoch 13/100\n",
      "37/37 - 1s - loss: 0.0037 - val_loss: 0.0019 - 1s/epoch - 36ms/step\n",
      "Epoch 14/100\n",
      "37/37 - 1s - loss: 0.0038 - val_loss: 0.0025 - 1s/epoch - 36ms/step\n",
      "Epoch 15/100\n",
      "37/37 - 1s - loss: 0.0035 - val_loss: 0.0013 - 1s/epoch - 35ms/step\n",
      "Epoch 16/100\n",
      "37/37 - 1s - loss: 0.0039 - val_loss: 0.0012 - 1s/epoch - 36ms/step\n",
      "Epoch 17/100\n",
      "37/37 - 1s - loss: 0.0034 - val_loss: 0.0022 - 1s/epoch - 36ms/step\n",
      "Epoch 18/100\n",
      "37/37 - 1s - loss: 0.0030 - val_loss: 0.0012 - 1s/epoch - 36ms/step\n",
      "Epoch 19/100\n",
      "37/37 - 1s - loss: 0.0030 - val_loss: 0.0020 - 1s/epoch - 37ms/step\n",
      "Epoch 20/100\n",
      "37/37 - 1s - loss: 0.0031 - val_loss: 0.0014 - 1s/epoch - 35ms/step\n",
      "Epoch 21/100\n",
      "37/37 - 1s - loss: 0.0032 - val_loss: 0.0020 - 1s/epoch - 36ms/step\n",
      "Epoch 22/100\n",
      "37/37 - 1s - loss: 0.0031 - val_loss: 0.0014 - 1s/epoch - 36ms/step\n",
      "Epoch 23/100\n",
      "37/37 - 1s - loss: 0.0028 - val_loss: 0.0011 - 1s/epoch - 36ms/step\n",
      "Epoch 24/100\n",
      "37/37 - 1s - loss: 0.0028 - val_loss: 0.0036 - 1s/epoch - 36ms/step\n",
      "Epoch 25/100\n",
      "37/37 - 1s - loss: 0.0027 - val_loss: 0.0014 - 1s/epoch - 36ms/step\n",
      "Epoch 26/100\n",
      "37/37 - 1s - loss: 0.0028 - val_loss: 0.0020 - 1s/epoch - 36ms/step\n",
      "Epoch 27/100\n",
      "37/37 - 1s - loss: 0.0029 - val_loss: 0.0013 - 1s/epoch - 36ms/step\n",
      "Epoch 28/100\n",
      "37/37 - 1s - loss: 0.0029 - val_loss: 0.0025 - 1s/epoch - 37ms/step\n",
      "10/10 [==============================] - 1s 14ms/step\n",
      "Root Mean Squared Error (RMSE): 68.64548886128333\n"
     ]
    },
    {
     "data": {
      "image/png": "[encoded data removed]",
      "text/plain": [
       "<Figure size 640x480 with 1 Axes>"
      ]
     },
     "metadata": {},
     "output_type": "display_data"
    },
    {
     "name": "stdout",
     "output_type": "stream",
     "text": [
      "1/1 [==============================] - 0s 32ms/step\n",
      "Predicted price for the next day: 2164.0242\n"
     ]
    }
   ],
   "source": [
    "import numpy as np\n",
    "import pandas as pd\n",
    "import matplotlib.pyplot as plt\n",
    "from sklearn.preprocessing import MinMaxScaler\n",
    "from tensorflow.keras.models import Sequential\n",
    "from tensorflow.keras.layers import LSTM, Dense, Dropout\n",
    "from sklearn.metrics import mean_squared_error\n",
    "from tensorflow.keras.callbacks import EarlyStopping\n",
    "\n",
    "# Extract only the 'Price' column\n",
    "data = df['Price'].values.reshape(-1, 1)\n",
    "\n",
    "# Normalize the data using Min-Max scaling\n",
    "scaler = MinMaxScaler()\n",
    "data_normalized = scaler.fit_transform(data)\n",
    "\n",
    "# Define the number of previous time steps to use for prediction\n",
    "n_steps = 30  # You can adjust this value based on your dataset and requirements\n",
    "\n",
    "# Prepare the data for the LSTM model\n",
    "X, y = [], []\n",
    "for i in range(len(data_normalized) - n_steps - 1):\n",
    "    X.append(data_normalized[i:i+n_steps])\n",
    "    y.append(data_normalized[i+n_steps])\n",
    "\n",
    "X, y = np.array(X), np.array(y)\n",
    "\n",
    "# Split the data into training and testing sets\n",
    "split_index = int(0.8 * len(X))\n",
    "X_train, X_test, y_train, y_test = X[:split_index], X[split_index:], y[:split_index], y[split_index:]\n",
    "\n",
    "# Build the LSTM model\n",
    "model = Sequential([\n",
    "    LSTM(units=64, activation='relu', input_shape=(X_train.shape[1], 1), return_sequences=True),\n",
    "    Dropout(0.2),\n",
    "    LSTM(units=32, activation='relu'),\n",
    "    Dropout(0.2),\n",
    "    Dense(units=1)\n",
    "])\n",
    "\n",
    "model.compile(optimizer='adam', loss='mse')\n",
    "\n",
    "# Early stopping to prevent overfitting\n",
    "early_stopping = EarlyStopping(monitor='val_loss', patience=5, restore_best_weights=True)\n",
    "\n",
    "# Train the model\n",
    "history = model.fit(X_train, y_train, epochs=100, batch_size=32, validation_data=(X_test, y_test), verbose=2, callbacks=[early_stopping])\n",
    "\n",
    "# Make predictions\n",
    "predicted_normalized = model.predict(X_test)\n",
    "predicted_prices = scaler.inverse_transform(predicted_normalized)\n",
    "\n",
    "# Convert back to original scale\n",
    "y_test_orig = scaler.inverse_transform(y_test.reshape(-1, 1))\n",
    "\n",
    "# Calculate RMSE\n",
    "rmse = np.sqrt(mean_squared_error(y_test_orig, predicted_prices))\n",
    "print(\"Root Mean Squared Error (RMSE):\", rmse)\n",
    "\n",
    "# Visualize predictions vs. actual values\n",
    "plt.plot(df['Date'][split_index+n_steps+1:], y_test_orig, label='Actual Prices')\n",
    "plt.plot(df['Date'][split_index+n_steps+1:], predicted_prices, label='Predicted Prices')\n",
    "plt.xlabel('Date')\n",
    "plt.ylabel('Price')\n",
    "plt.title('Predicted vs. Actual Prices')\n",
    "plt.legend()\n",
    "plt.xticks(rotation=45)\n",
    "plt.show()\n",
    "\n",
    "# Print the next day predicted value\n",
    "next_day_pred_normalized = model.predict(X_test[-1:])\n",
    "next_day_pred_price = scaler.inverse_transform(next_day_pred_normalized)\n",
    "print(\"Predicted price for the next day:\", next_day_pred_price[0][0])\n"
   ]
  },
  {
   "cell_type": "code",
   "execution_count": null,
   "id": "a2d5ca88",
   "metadata": {},
   "outputs": [],
   "source": []
  }
 ],
 "metadata": {
  "kernelspec": {
   "display_name": "Python 3 (ipykernel)",
   "language": "python",
   "name": "python3"
  },
  "language_info": {
   "codemirror_mode": {
    "name": "ipython",
    "version": 3
   },
   "file_extension": ".py",
   "mimetype": "text/x-python",
   "name": "python",
   "nbconvert_exporter": "python",
   "pygments_lexer": "ipython3",
   "version": "3.11.4"
  }
 },
 "nbformat": 4,
 "nbformat_minor": 5
}
